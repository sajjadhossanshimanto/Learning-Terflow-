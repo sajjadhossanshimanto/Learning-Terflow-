{
  "nbformat": 4,
  "nbformat_minor": 0,
  "metadata": {
    "colab": {
      "provenance": []
    },
    "kernelspec": {
      "name": "python3",
      "display_name": "Python 3"
    },
    "language_info": {
      "name": "python"
    }
  },
  "cells": [
    {
      "cell_type": "code",
      "execution_count": 1,
      "metadata": {
        "id": "mbPmk12btpCZ"
      },
      "outputs": [],
      "source": [
        "import tensorflow as tf"
      ]
    },
    {
      "cell_type": "code",
      "source": [
        "X = tf.range(-100, 100, 4)\n",
        "y = X + 10\n",
        "\n",
        "X_test = X[40:]\n",
        "y_test = y[40:]"
      ],
      "metadata": {
        "id": "GqEZydtrw2Tf"
      },
      "execution_count": 3,
      "outputs": []
    },
    {
      "cell_type": "code",
      "source": [
        "y_test = tf.expand_dims(y_test, axis=-1)\n"
      ],
      "metadata": {
        "id": "19DX8ZsyxYga"
      },
      "execution_count": 7,
      "outputs": []
    },
    {
      "cell_type": "code",
      "source": [
        "y_pred = tf.constant([[ 71.3803  ],\n",
        "       [ 76.07425 ],\n",
        "       [ 80.7682  ],\n",
        "       [ 85.462166],\n",
        "       [ 90.15613 ],\n",
        "       [ 94.85007 ],\n",
        "       [ 99.54402 ],\n",
        "       [104.23797 ],\n",
        "       [108.93192 ],\n",
        "       [113.625885]])"
      ],
      "metadata": {
        "id": "bRxAEUuBwiFw"
      },
      "execution_count": 2,
      "outputs": []
    },
    {
      "cell_type": "code",
      "source": [
        "y_test, y_pred"
      ],
      "metadata": {
        "colab": {
          "base_uri": "https://localhost:8080/"
        },
        "id": "H4adNLgCy9Ow",
        "outputId": "07253aa7-d388-44c8-9aeb-f20b647a98e0"
      },
      "execution_count": 12,
      "outputs": [
        {
          "output_type": "execute_result",
          "data": {
            "text/plain": [
              "(<tf.Tensor: shape=(10, 1), dtype=int32, numpy=\n",
              " array([[ 70],\n",
              "        [ 74],\n",
              "        [ 78],\n",
              "        [ 82],\n",
              "        [ 86],\n",
              "        [ 90],\n",
              "        [ 94],\n",
              "        [ 98],\n",
              "        [102],\n",
              "        [106]], dtype=int32)>,\n",
              " <tf.Tensor: shape=(10, 1), dtype=float32, numpy=\n",
              " array([[ 71.3803  ],\n",
              "        [ 76.07425 ],\n",
              "        [ 80.7682  ],\n",
              "        [ 85.462166],\n",
              "        [ 90.15613 ],\n",
              "        [ 94.85007 ],\n",
              "        [ 99.54402 ],\n",
              "        [104.23797 ],\n",
              "        [108.93192 ],\n",
              "        [113.625885]], dtype=float32)>)"
            ]
          },
          "metadata": {},
          "execution_count": 12
        }
      ]
    },
    {
      "cell_type": "code",
      "source": [
        "tf.keras.losses.mae(y_test, y_pred)"
      ],
      "metadata": {
        "colab": {
          "base_uri": "https://localhost:8080/"
        },
        "id": "VOO9Jodtwr1y",
        "outputId": "132652d4-47d6-492b-dc61-408bc165b6a5"
      },
      "execution_count": 13,
      "outputs": [
        {
          "output_type": "execute_result",
          "data": {
            "text/plain": [
              "<tf.Tensor: shape=(10,), dtype=float32, numpy=\n",
              "array([1.3803024, 2.0742493, 2.7682037, 3.4621658, 4.156128 , 4.850067 ,\n",
              "       5.5440216, 6.2379684, 6.931923 , 7.625885 ], dtype=float32)>"
            ]
          },
          "metadata": {},
          "execution_count": 13
        }
      ]
    },
    {
      "cell_type": "code",
      "source": [
        "tf.keras.losses.mae(tf.squeeze(y_test), tf.squeeze(y_pred))\n",
        "# remember: we will spent most of time in reshaping the array to fit the function"
      ],
      "metadata": {
        "colab": {
          "base_uri": "https://localhost:8080/"
        },
        "id": "vcpc1gCg0FOI",
        "outputId": "935a440f-0bb7-400b-a74f-7e79aa1491f3"
      },
      "execution_count": 15,
      "outputs": [
        {
          "output_type": "execute_result",
          "data": {
            "text/plain": [
              "<tf.Tensor: shape=(), dtype=float32, numpy=4.503091335296631>"
            ]
          },
          "metadata": {},
          "execution_count": 15
        }
      ]
    },
    {
      "cell_type": "code",
      "source": [
        "y_test = tf.squeeze(y_test)\n",
        "y_pred = tf.squeeze(y_pred)\n",
        "tf.keras.losses.MSE(y_test, y_pred)\n",
        "# MSE will be larger than MAE"
      ],
      "metadata": {
        "colab": {
          "base_uri": "https://localhost:8080/"
        },
        "id": "hFjORG4exQNB",
        "outputId": "d9eaa4ec-f4ff-4ae4-edc6-b5d8cbc5d7e1"
      },
      "execution_count": 17,
      "outputs": [
        {
          "output_type": "execute_result",
          "data": {
            "text/plain": [
              "<tf.Tensor: shape=(), dtype=float32, numpy=24.25079345703125>"
            ]
          },
          "metadata": {},
          "execution_count": 17
        }
      ]
    },
    {
      "cell_type": "code",
      "source": [
        "tf.keras.losses.Huber()"
      ],
      "metadata": {
        "id": "cH7WjOwjx5G6"
      },
      "execution_count": null,
      "outputs": []
    }
  ]
}