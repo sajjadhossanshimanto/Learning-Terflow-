{
  "cells": [
    {
      "cell_type": "code",
      "execution_count": 1,
      "metadata": {
        "id": "mbPmk12btpCZ"
      },
      "outputs": [],
      "source": [
        "import tensorflow as tf"
      ]
    },
    {
      "cell_type": "code",
      "execution_count": 3,
      "metadata": {
        "id": "GqEZydtrw2Tf"
      },
      "outputs": [],
      "source": [
        "X = tf.range(-100, 100, 4)\n",
        "y = X + 10\n",
        "\n",
        "X_test = X[40:]\n",
        "y_test = y[40:]"
      ]
    },
    {
      "cell_type": "code",
      "execution_count": 7,
      "metadata": {
        "id": "19DX8ZsyxYga"
      },
      "outputs": [],
      "source": [
        "y_test = tf.expand_dims(y_test, axis=-1)\n"
      ]
    },
    {
      "cell_type": "code",
      "execution_count": 2,
      "metadata": {
        "id": "bRxAEUuBwiFw"
      },
      "outputs": [],
      "source": [
        "y_pred = tf.constant([[ 71.3803  ],\n",
        "       [ 76.07425 ],\n",
        "       [ 80.7682  ],\n",
        "       [ 85.462166],\n",
        "       [ 90.15613 ],\n",
        "       [ 94.85007 ],\n",
        "       [ 99.54402 ],\n",
        "       [104.23797 ],\n",
        "       [108.93192 ],\n",
        "       [113.625885]])"
      ]
    },
    {
      "cell_type": "code",
      "execution_count": 12,
      "metadata": {
        "colab": {
          "base_uri": "https://localhost:8080/"
        },
        "id": "H4adNLgCy9Ow",
        "outputId": "07253aa7-d388-44c8-9aeb-f20b647a98e0"
      },
      "outputs": [
        {
          "data": {
            "text/plain": [
              "(<tf.Tensor: shape=(10, 1), dtype=int32, numpy=\n",
              " array([[ 70],\n",
              "        [ 74],\n",
              "        [ 78],\n",
              "        [ 82],\n",
              "        [ 86],\n",
              "        [ 90],\n",
              "        [ 94],\n",
              "        [ 98],\n",
              "        [102],\n",
              "        [106]], dtype=int32)>,\n",
              " <tf.Tensor: shape=(10, 1), dtype=float32, numpy=\n",
              " array([[ 71.3803  ],\n",
              "        [ 76.07425 ],\n",
              "        [ 80.7682  ],\n",
              "        [ 85.462166],\n",
              "        [ 90.15613 ],\n",
              "        [ 94.85007 ],\n",
              "        [ 99.54402 ],\n",
              "        [104.23797 ],\n",
              "        [108.93192 ],\n",
              "        [113.625885]], dtype=float32)>)"
            ]
          },
          "execution_count": 12,
          "metadata": {},
          "output_type": "execute_result"
        }
      ],
      "source": [
        "y_test, y_pred"
      ]
    },
    {
      "cell_type": "code",
      "execution_count": 13,
      "metadata": {
        "colab": {
          "base_uri": "https://localhost:8080/"
        },
        "id": "VOO9Jodtwr1y",
        "outputId": "132652d4-47d6-492b-dc61-408bc165b6a5"
      },
      "outputs": [
        {
          "data": {
            "text/plain": [
              "<tf.Tensor: shape=(10,), dtype=float32, numpy=\n",
              "array([1.3803024, 2.0742493, 2.7682037, 3.4621658, 4.156128 , 4.850067 ,\n",
              "       5.5440216, 6.2379684, 6.931923 , 7.625885 ], dtype=float32)>"
            ]
          },
          "execution_count": 13,
          "metadata": {},
          "output_type": "execute_result"
        }
      ],
      "source": [
        "tf.keras.losses.mae(y_test, y_pred)"
      ]
    },
    {
      "cell_type": "code",
      "execution_count": 15,
      "metadata": {
        "colab": {
          "base_uri": "https://localhost:8080/"
        },
        "id": "vcpc1gCg0FOI",
        "outputId": "935a440f-0bb7-400b-a74f-7e79aa1491f3"
      },
      "outputs": [
        {
          "data": {
            "text/plain": [
              "<tf.Tensor: shape=(), dtype=float32, numpy=4.503091335296631>"
            ]
          },
          "execution_count": 15,
          "metadata": {},
          "output_type": "execute_result"
        }
      ],
      "source": [
        "tf.keras.losses.mae(tf.squeeze(y_test), tf.squeeze(y_pred))\n",
        "# remember: we will spent most of time in reshaping the array to fit the function"
      ]
    },
    {
      "cell_type": "code",
      "execution_count": 17,
      "metadata": {
        "colab": {
          "base_uri": "https://localhost:8080/"
        },
        "id": "hFjORG4exQNB",
        "outputId": "d9eaa4ec-f4ff-4ae4-edc6-b5d8cbc5d7e1"
      },
      "outputs": [
        {
          "data": {
            "text/plain": [
              "<tf.Tensor: shape=(), dtype=float32, numpy=24.25079345703125>"
            ]
          },
          "execution_count": 17,
          "metadata": {},
          "output_type": "execute_result"
        }
      ],
      "source": [
        "y_test = tf.squeeze(y_test)\n",
        "y_pred = tf.squeeze(y_pred)\n",
        "tf.keras.losses.MSE(y_test, y_pred)\n",
        "# MSE will be larger than MAE"
      ]
    },
    {
      "cell_type": "code",
      "execution_count": null,
      "metadata": {},
      "outputs": [],
      "source": [
        "# quick functions for mae and mse\n",
        "def mae(y_true, y_pred):\n",
        "    return tf.keras.losses.mae(\n",
        "      tf.squeeze(y_true),\n",
        "      tf.squeeze(y_pred)\n",
        "    )\n",
        "\n",
        "def mse(y_true, y_pred):\n",
        "    return tf.keras.losses.MSE(\n",
        "      tf.squeeze(y_true),\n",
        "      tf.squeeze(y_pred)\n",
        "    )"
      ]
    },
    {
      "cell_type": "code",
      "execution_count": null,
      "metadata": {
        "id": "cH7WjOwjx5G6"
      },
      "outputs": [],
      "source": [
        "tf.keras.losses.Huber()"
      ]
    },
    {
      "cell_type": "markdown",
      "metadata": {
        "id": "zGVv5ooG3zK3"
      },
      "source": [
        "## Evaluating predictions\n",
        "\n",
        "Alongisde visualizations, evaulation metrics are your alternative best option for evaluating your model.\n",
        "\n",
        "Depending on the problem you're working on, different models have different evaluation metrics.\n",
        "\n",
        "Two of the main metrics used for regression problems are:\n",
        "* **Mean absolute error (MAE)** - the mean difference between each of the predictions.\n",
        "* **Mean squared error (MSE)** - the squared mean difference between of the predictions (use if larger errors are more detrimental than smaller errors).\n",
        "\n",
        "The lower each of these values, the better.\n",
        "\n",
        "You can also use [`model.evaluate()`](https://www.tensorflow.org/api_docs/python/tf/keras/Model#evaluate) which will return the loss of the model as well as any metrics setup during the compile step."
      ]
    },
    {
      "cell_type": "code",
      "execution_count": null,
      "metadata": {
        "id": "DPmxVF0Z30L4"
      },
      "outputs": [],
      "source": [
        "# Evaluate the model on the test set\n",
        "model.evaluate(X_test, y_test)"
      ]
    },
    {
      "cell_type": "markdown",
      "metadata": {
        "id": "-O3uIOmQ38KQ"
      },
      "source": [
        "In our case, since we used MAE for the loss function as well as MAE for the metrics, `model.evaulate()` returns them both.\n",
        "\n",
        "TensorFlow also has built in functions for MSE and MAE.\n",
        "\n",
        "For many evaluation functions, the premise is the same: compare predictions to the ground truth labels."
      ]
    },
    {
      "cell_type": "code",
      "execution_count": null,
      "metadata": {
        "id": "jG634GA238qX"
      },
      "outputs": [],
      "source": []
    }
  ],
  "metadata": {
    "colab": {
      "provenance": []
    },
    "kernelspec": {
      "display_name": "Python 3",
      "name": "python3"
    },
    "language_info": {
      "name": "python"
    }
  },
  "nbformat": 4,
  "nbformat_minor": 0
}
