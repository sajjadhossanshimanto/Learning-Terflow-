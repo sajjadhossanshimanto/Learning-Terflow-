{
  "cells": [
    {
      "cell_type": "code",
      "execution_count": 2,
      "metadata": {
        "colab": {
          "base_uri": "https://localhost:8080/",
          "height": 36
        },
        "id": "v_bZOwapw9Ct",
        "outputId": "416d1272-ccbf-4bfd-b998-41c846c3cb7b"
      },
      "outputs": [
        {
          "data": {
            "application/vnd.google.colaboratory.intrinsic+json": {
              "type": "string"
            },
            "text/plain": [
              "'2.18.0'"
            ]
          },
          "execution_count": 2,
          "metadata": {},
          "output_type": "execute_result"
        }
      ],
      "source": [
        "import tensorflow as tf\n",
        "tf.__version__"
      ]
    },
    {
      "cell_type": "code",
      "execution_count": 4,
      "metadata": {
        "colab": {
          "base_uri": "https://localhost:8080/"
        },
        "id": "Nrn0C4lkyCMa",
        "outputId": "452142e0-efaf-4821-ee72-9fb037073784"
      },
      "outputs": [
        {
          "data": {
            "text/plain": [
              "<tf.Tensor: shape=(3, 2), dtype=float32, numpy=\n",
              "array([[-0.78605   ,  0.7337846 ],\n",
              "       [ 0.91429746, -1.307173  ],\n",
              "       [-0.01731198,  0.62122095]], dtype=float32)>"
            ]
          },
          "execution_count": 4,
          "metadata": {},
          "output_type": "execute_result"
        }
      ],
      "source": [
        "# 1st paramiter to give any random function is generally `shape`\n",
        "tf.random.normal(shape=(3, 2))"
      ]
    },
    {
      "cell_type": "code",
      "execution_count": 8,
      "metadata": {
        "colab": {
          "base_uri": "https://localhost:8080/"
        },
        "id": "1nSPxF_tzaoX",
        "outputId": "601c0150-9ecb-40d9-bdfb-123ce7999678"
      },
      "outputs": [
        {
          "data": {
            "text/plain": [
              "<tf.Tensor: shape=(3, 2), dtype=float32, numpy=\n",
              "array([[ 0.9356609 ,  1.0854305 ],\n",
              "       [-0.93788373, -0.5061547 ],\n",
              "       [ 1.3169702 ,  0.7137579 ]], dtype=float32)>"
            ]
          },
          "execution_count": 8,
          "metadata": {},
          "output_type": "execute_result"
        }
      ],
      "source": [
        "# using seed\n",
        "rand_1 = tf.random.Generator.from_seed(1234)\n",
        "rand_1.normal(shape = (3, 2))"
      ]
    },
    {
      "cell_type": "code",
      "execution_count": 9,
      "metadata": {
        "colab": {
          "base_uri": "https://localhost:8080/"
        },
        "id": "u3sSyJr6zqOP",
        "outputId": "35111678-1bb3-434f-d088-a3d069d975fa"
      },
      "outputs": [
        {
          "data": {
            "text/plain": [
              "<tf.Tensor: shape=(3, 2), dtype=float32, numpy=\n",
              "array([[-0.39647493,  0.83695656],\n",
              "       [-0.30946946,  1.1206646 ],\n",
              "       [ 1.008526  , -0.10185789]], dtype=float32)>"
            ]
          },
          "execution_count": 9,
          "metadata": {},
          "output_type": "execute_result"
        }
      ],
      "source": [
        "rand_1.normal(shape = (3, 2))\n",
        "# 2nd will be diff from 1st. but every 2nd call after seed will have the same output."
      ]
    },
    {
      "cell_type": "code",
      "execution_count": 23,
      "metadata": {
        "colab": {
          "base_uri": "https://localhost:8080/"
        },
        "id": "Uu7pLY0Oz-1h",
        "outputId": "a2b18038-ef8e-4d05-e97c-7f072800c241"
      },
      "outputs": [
        {
          "data": {
            "text/plain": [
              "<tf.Tensor: shape=(3, 2), dtype=float32, numpy=\n",
              "array([[0.24654162, 0.54596007],\n",
              "       [0.03914618, 0.13007796],\n",
              "       [0.43204963, 0.7787502 ]], dtype=float32)>"
            ]
          },
          "execution_count": 23,
          "metadata": {},
          "output_type": "execute_result"
        }
      ],
      "source": [
        "# uniform distribution is also available\n",
        "rand_1.uniform(shape=(3, 2))"
      ]
    },
    {
      "cell_type": "markdown",
      "metadata": {
        "id": "3NtjWzTj07b7"
      },
      "source": [
        "### shuffle a tensor"
      ]
    },
    {
      "cell_type": "code",
      "execution_count": 10,
      "metadata": {
        "colab": {
          "base_uri": "https://localhost:8080/"
        },
        "id": "MZ7lHhqN06he",
        "outputId": "9bf8ac5b-938e-4876-90c1-efe7747516a9"
      },
      "outputs": [
        {
          "data": {
            "text/plain": [
              "<tf.Tensor: shape=(3, 2), dtype=int32, numpy=\n",
              "array([[1, 2],\n",
              "       [3, 4],\n",
              "       [5, 6]], dtype=int32)>"
            ]
          },
          "execution_count": 10,
          "metadata": {},
          "output_type": "execute_result"
        }
      ],
      "source": [
        "tensor = tf.constant([[1, 2],\n",
        "                      [3, 4],\n",
        "                      [5, 6]])\n",
        "tensor"
      ]
    },
    {
      "cell_type": "code",
      "execution_count": 11,
      "metadata": {
        "colab": {
          "base_uri": "https://localhost:8080/"
        },
        "id": "G5d2IQqQ1dko",
        "outputId": "d83fbc0f-319f-4627-ad70-7005e4166fe6"
      },
      "outputs": [
        {
          "data": {
            "text/plain": [
              "<tf.Tensor: shape=(3, 2), dtype=int32, numpy=\n",
              "array([[3, 4],\n",
              "       [1, 2],\n",
              "       [5, 6]], dtype=int32)>"
            ]
          },
          "execution_count": 11,
          "metadata": {},
          "output_type": "execute_result"
        }
      ],
      "source": [
        "tf.random.shuffle(tensor) # we can provide seed as paramiter"
      ]
    },
    {
      "cell_type": "markdown",
      "metadata": {
        "id": "pOv4xGyi3DYe"
      },
      "source": [
        "**NOTE:** Randomly shuffles a tensor along its `first` dimension only. [referance](https://www.tensorflow.org/api_docs/python/tf/random/shuffle)"
      ]
    },
    {
      "cell_type": "code",
      "execution_count": 21,
      "metadata": {
        "colab": {
          "base_uri": "https://localhost:8080/"
        },
        "id": "yf6H6GTG1w8e",
        "outputId": "f4d99a26-8a65-4ab5-ac78-16225a7fca88"
      },
      "outputs": [
        {
          "data": {
            "text/plain": [
              "<tf.Tensor: shape=(3, 2), dtype=int32, numpy=\n",
              "array([[3, 4],\n",
              "       [5, 6],\n",
              "       [1, 2]], dtype=int32)>"
            ]
          },
          "execution_count": 21,
          "metadata": {},
          "output_type": "execute_result"
        }
      ],
      "source": [
        "tf.random.shuffle(tensor, seed=42) # we can provide seed as paramiter"
      ]
    },
    {
      "cell_type": "code",
      "execution_count": 22,
      "metadata": {
        "colab": {
          "base_uri": "https://localhost:8080/"
        },
        "id": "Dg_jbt-L2Hz5",
        "outputId": "cf4beaf6-a527-426f-fee6-b0ac9af7107e"
      },
      "outputs": [
        {
          "data": {
            "text/plain": [
              "<tf.Tensor: shape=(3, 2), dtype=int32, numpy=\n",
              "array([[5, 6],\n",
              "       [1, 2],\n",
              "       [3, 4]], dtype=int32)>"
            ]
          },
          "execution_count": 22,
          "metadata": {},
          "output_type": "execute_result"
        }
      ],
      "source": [
        "# but the function seed is also affected by global seed value\n",
        "tf.random.set_seed(123)\n",
        "tf.random.shuffle(tensor, seed=42)"
      ]
    },
    {
      "cell_type": "markdown",
      "metadata": {},
      "source": [
        "- with in_function seed -> the shuffel will be changed with each run. (fixed based on number of run)\n",
        "- but if i realy need a fix shuffer i must use global seed"
      ]
    },
    {
      "cell_type": "code",
      "execution_count": 15,
      "metadata": {
        "id": "4kmeqRTQ36QT"
      },
      "outputs": [],
      "source": []
    }
  ],
  "metadata": {
    "colab": {
      "provenance": []
    },
    "kernelspec": {
      "display_name": "Python 3",
      "name": "python3"
    },
    "language_info": {
      "name": "python"
    }
  },
  "nbformat": 4,
  "nbformat_minor": 0
}
