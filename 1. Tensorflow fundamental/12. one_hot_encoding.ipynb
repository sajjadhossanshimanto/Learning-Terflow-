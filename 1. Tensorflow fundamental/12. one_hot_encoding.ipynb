{
  "nbformat": 4,
  "nbformat_minor": 0,
  "metadata": {
    "colab": {
      "provenance": []
    },
    "kernelspec": {
      "name": "python3",
      "display_name": "Python 3"
    },
    "language_info": {
      "name": "python"
    }
  },
  "cells": [
    {
      "cell_type": "code",
      "execution_count": null,
      "metadata": {
        "id": "GtC7y49PNwwB"
      },
      "outputs": [],
      "source": [
        "\" one-hot encoding is numerical way of representing data\""
      ]
    },
    {
      "cell_type": "code",
      "source": [
        "import tensorflow as tf\n",
        "tf.__version__"
      ],
      "metadata": {
        "id": "doBGG520VFGx"
      },
      "execution_count": 1,
      "outputs": []
    },
    {
      "cell_type": "code",
      "source": [
        "some_list = [0, 1, 2, 3]\n",
        "\n",
        "tf.one_hot(some_list, depth=4)"
      ],
      "metadata": {
        "colab": {
          "base_uri": "https://localhost:8080/"
        },
        "id": "I2lsMiPlVKD4",
        "outputId": "0c5b1c91-2baa-43d8-99b5-0974154b22c4"
      },
      "execution_count": 2,
      "outputs": [
        {
          "output_type": "execute_result",
          "data": {
            "text/plain": [
              "<tf.Tensor: shape=(4, 4), dtype=float32, numpy=\n",
              "array([[1., 0., 0., 0.],\n",
              "       [0., 1., 0., 0.],\n",
              "       [0., 0., 1., 0.],\n",
              "       [0., 0., 0., 1.]], dtype=float32)>"
            ]
          },
          "metadata": {},
          "execution_count": 2
        }
      ]
    },
    {
      "cell_type": "code",
      "source": [
        "tf.one_hot(some_list, 3, on_value=\"dog\", off_value=\"cat\")"
      ],
      "metadata": {
        "colab": {
          "base_uri": "https://localhost:8080/"
        },
        "id": "sSoxLgAeVfyx",
        "outputId": "1802935a-27c3-4dd4-dd63-30772c609e53"
      },
      "execution_count": 5,
      "outputs": [
        {
          "output_type": "execute_result",
          "data": {
            "text/plain": [
              "<tf.Tensor: shape=(4, 3), dtype=string, numpy=\n",
              "array([[b'dog', b'cat', b'cat'],\n",
              "       [b'cat', b'dog', b'cat'],\n",
              "       [b'cat', b'cat', b'dog'],\n",
              "       [b'cat', b'cat', b'cat']], dtype=object)>"
            ]
          },
          "metadata": {},
          "execution_count": 5
        }
      ]
    },
    {
      "cell_type": "code",
      "source": [
        "some_list = [0, 1, 2, 3]\n",
        "\n",
        "tf.one_hot(some_list, depth=2) # so depth is the maximum index-value"
      ],
      "metadata": {
        "colab": {
          "base_uri": "https://localhost:8080/"
        },
        "id": "EftoZ7-bbj8g",
        "outputId": "6fc5e3d5-4ad9-49d8-c92c-f41dbcf01def"
      },
      "execution_count": 9,
      "outputs": [
        {
          "output_type": "execute_result",
          "data": {
            "text/plain": [
              "<tf.Tensor: shape=(4, 2), dtype=float32, numpy=\n",
              "array([[1., 0.],\n",
              "       [0., 1.],\n",
              "       [0., 0.],\n",
              "       [0., 0.]], dtype=float32)>"
            ]
          },
          "metadata": {},
          "execution_count": 9
        }
      ]
    },
    {
      "cell_type": "code",
      "source": [
        "indices = [[0, 2], [1, 4]]\n",
        "depth = 3\n",
        "tf.one_hot(indices, depth)  # output: [2 x 2 x 3]\n",
        "# [[[1.0, 0.0, 0.0],   # one_hot(0)\n",
        "#   [0.0, 0.0, 1.0]],  # one_hot(2)\n",
        "#  [[0.0, 1.0, 0.0],   # one_hot(1)\n",
        "#   [0.0, 0.0, 0.0]]]  # one_hot(4) out of boundery"
      ],
      "metadata": {
        "colab": {
          "base_uri": "https://localhost:8080/"
        },
        "id": "7WA0wEq1b2gQ",
        "outputId": "0f3e9c8c-2b63-47b8-8632-3693cfb4be7d"
      },
      "execution_count": 12,
      "outputs": [
        {
          "output_type": "execute_result",
          "data": {
            "text/plain": [
              "<tf.Tensor: shape=(2, 2, 3), dtype=float32, numpy=\n",
              "array([[[1., 0., 0.],\n",
              "        [0., 0., 1.]],\n",
              "\n",
              "       [[0., 1., 0.],\n",
              "        [0., 0., 0.]]], dtype=float32)>"
            ]
          },
          "metadata": {},
          "execution_count": 12
        }
      ]
    },
    {
      "cell_type": "code",
      "source": [],
      "metadata": {
        "id": "xsTPXb_Qf_bK"
      },
      "execution_count": null,
      "outputs": []
    }
  ]
}